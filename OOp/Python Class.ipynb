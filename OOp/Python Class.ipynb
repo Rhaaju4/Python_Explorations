{
 "cells": [
  {
   "cell_type": "markdown",
   "id": "4fcfee0b",
   "metadata": {},
   "source": [
    "### Objects\n",
    "An object is a container that contains data and functionality.\n",
    "\n",
    "The data represents the object at a particular moment in time. Therefore, the data of an object is called the state. Python uses attributes to model the state of an object.\n",
    "\n",
    "The functionality represents the behaviors of an object. Python uses functions to model the behaviors. When a function is associated with an object, it becomes a method of the object.\n",
    "\n",
    "In other words, an object is a container that contains the state and methods."
   ]
  },
  {
   "cell_type": "code",
   "execution_count": 36,
   "id": "7e98c08b",
   "metadata": {},
   "outputs": [
    {
     "name": "stdout",
     "output_type": "stream",
     "text": [
      "<__main__.Person object at 0x0000022835C081C0>\n"
     ]
    }
   ],
   "source": [
    "class Person:\n",
    "    pass\n",
    "\n",
    "person = Person()\n",
    "print(person)"
   ]
  },
  {
   "cell_type": "markdown",
   "id": "cf0268a9",
   "metadata": {},
   "source": [
    "person object is an instance of the Person class.\n",
    "The isinstance() function returns True if an object is an instance of a class:"
   ]
  },
  {
   "cell_type": "code",
   "execution_count": 37,
   "id": "2ec46f4c",
   "metadata": {},
   "outputs": [
    {
     "name": "stdout",
     "output_type": "stream",
     "text": [
      "True\n"
     ]
    }
   ],
   "source": [
    "print(isinstance(person, Person))  # True"
   ]
  },
  {
   "cell_type": "markdown",
   "id": "faee7c32",
   "metadata": {},
   "source": [
    "A class is also an object in Python\n",
    "\n",
    "Everything in Python is an object, including classes.\n",
    "\n",
    "When you define the Person class, Python creates an object with the name Person. The Person object has attributes. For example, you can find its name using the __name__ attribute\n"
   ]
  },
  {
   "cell_type": "code",
   "execution_count": 39,
   "id": "5cc0fc7c",
   "metadata": {},
   "outputs": [
    {
     "name": "stdout",
     "output_type": "stream",
     "text": [
      "Person\n"
     ]
    }
   ],
   "source": [
    "print(Person.__name__)"
   ]
  },
  {
   "cell_type": "code",
   "execution_count": 40,
   "id": "f5dd9f09",
   "metadata": {},
   "outputs": [
    {
     "name": "stdout",
     "output_type": "stream",
     "text": [
      "<class 'type'>\n"
     ]
    }
   ],
   "source": [
    "#The Person object has the type of type:\n",
    "\n",
    "print(type(Person))"
   ]
  }
 ],
 "metadata": {
  "kernelspec": {
   "display_name": "Python 3 (ipykernel)",
   "language": "python",
   "name": "python3"
  },
  "language_info": {
   "codemirror_mode": {
    "name": "ipython",
    "version": 3
   },
   "file_extension": ".py",
   "mimetype": "text/x-python",
   "name": "python",
   "nbconvert_exporter": "python",
   "pygments_lexer": "ipython3",
   "version": "3.9.12"
  }
 },
 "nbformat": 4,
 "nbformat_minor": 5
}
