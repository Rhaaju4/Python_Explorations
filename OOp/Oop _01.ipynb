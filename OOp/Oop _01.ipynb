{
 "cells": [
  {
   "cell_type": "code",
   "execution_count": 8,
   "id": "b597fe22",
   "metadata": {},
   "outputs": [],
   "source": [
    "#creating a class\n",
    "#To define and initialize an attribute for all instances of a class,\n",
    "#you use the __init__ method. \n",
    "#The following defines the Person class with two instance attributes name and age\n",
    "\n",
    "class Person:\n",
    "    \n",
    "#When you create a Person object, \n",
    "#Python automatically calls the __init__ method \n",
    "#to initialize the instance attributes. In the __init__ method, \n",
    "#the self is the instance of the Person class.\n",
    "    def __init__(self, name, age):\n",
    "        self.name = name #instance variable\n",
    "        self.age = age # instance attributes"
   ]
  },
  {
   "cell_type": "code",
   "execution_count": 10,
   "id": "f6dc8f0c",
   "metadata": {},
   "outputs": [],
   "source": [
    "#To create an object from the Person class\n",
    "#the person is an instance of the Person class. Classes are callable.\n",
    "#person_01 = Person()"
   ]
  },
  {
   "cell_type": "code",
   "execution_count": 11,
   "id": "f159b2c9",
   "metadata": {},
   "outputs": [],
   "source": [
    "#Python is dynamic. It means that you can add an attribute to an instance of a class dynamically at runtime.\n",
    "#the following adds the name attribute to the person object:\n",
    "#person_01.name = 'Rhaju'\n"
   ]
  },
  {
   "cell_type": "code",
   "execution_count": 12,
   "id": "d4cc1b27",
   "metadata": {},
   "outputs": [],
   "source": [
    "#The following creates a Person object named person:\n",
    "person_01 = Person('John', 25) "
   ]
  },
  {
   "cell_type": "code",
   "execution_count": 13,
   "id": "70e1b3b2",
   "metadata": {},
   "outputs": [
    {
     "data": {
      "text/plain": [
       "'John'"
      ]
     },
     "execution_count": 13,
     "metadata": {},
     "output_type": "execute_result"
    }
   ],
   "source": [
    "#The person object now has the name and age attributes. To access an instance attribute, you use the dot notation.\n",
    "person_01.name"
   ]
  },
  {
   "cell_type": "markdown",
   "id": "b4dfcbc0",
   "metadata": {},
   "source": [
    "## Defning instance methods\n",
    "### the following add an instance methods called greet() to the Person class"
   ]
  },
  {
   "cell_type": "code",
   "execution_count": 16,
   "id": "3500cf87",
   "metadata": {},
   "outputs": [],
   "source": [
    "class Person:\n",
    "    def __init__(self, name, age):\n",
    "        self.name = name\n",
    "        self.age = age\n",
    "        \n",
    "    def greet(self):\n",
    "        return f\"Hi, it's {self.name}.\"\n",
    "    "
   ]
  },
  {
   "cell_type": "code",
   "execution_count": 17,
   "id": "d1995f9b",
   "metadata": {},
   "outputs": [],
   "source": [
    "person_01 = Person('John', 25)"
   ]
  },
  {
   "cell_type": "code",
   "execution_count": 18,
   "id": "dae55052",
   "metadata": {},
   "outputs": [
    {
     "name": "stdout",
     "output_type": "stream",
     "text": [
      "Hi, it's John.\n"
     ]
    }
   ],
   "source": [
    "#To call an instance method, you also use the dot notation.\n",
    "print(person_01.greet())"
   ]
  },
  {
   "cell_type": "markdown",
   "id": "d9a8a953",
   "metadata": {},
   "source": [
    "### Defining class attributes\n",
    "\n",
    "instance attributes, class attributes are shared by all instances of the class\n",
    "\n"
   ]
  },
  {
   "cell_type": "code",
   "execution_count": 24,
   "id": "19684e32",
   "metadata": {},
   "outputs": [],
   "source": [
    "class Person:\n",
    "    counter = 0\n",
    "\n",
    "    def __init__(self, name, age):\n",
    "        self.name = name\n",
    "        self.age = age\n",
    "        #To make the counter variable more useful,\n",
    "        #you can increase its value by one once an object is created\n",
    "        Person.counter += 1\n",
    "\n",
    "    def greet(self):\n",
    "        return f\"Hi, it's {self.name}.\""
   ]
  },
  {
   "cell_type": "code",
   "execution_count": 25,
   "id": "25eaee2a",
   "metadata": {},
   "outputs": [
    {
     "data": {
      "text/plain": [
       "0"
      ]
     },
     "execution_count": 25,
     "metadata": {},
     "output_type": "execute_result"
    }
   ],
   "source": [
    "Person.counter"
   ]
  },
  {
   "cell_type": "code",
   "execution_count": 26,
   "id": "40a40fc2",
   "metadata": {},
   "outputs": [
    {
     "data": {
      "text/plain": [
       "1"
      ]
     },
     "execution_count": 26,
     "metadata": {},
     "output_type": "execute_result"
    }
   ],
   "source": [
    "person = Person('John',25)\n",
    "person.counter"
   ]
  },
  {
   "cell_type": "code",
   "execution_count": 27,
   "id": "aa3eb8d5",
   "metadata": {},
   "outputs": [
    {
     "name": "stdout",
     "output_type": "stream",
     "text": [
      "3\n"
     ]
    }
   ],
   "source": [
    "p1 = Person('John', 25)\n",
    "p2 = Person('Jane', 22)\n",
    "print(Person.counter)"
   ]
  },
  {
   "cell_type": "code",
   "execution_count": 28,
   "id": "66de9e88",
   "metadata": {},
   "outputs": [],
   "source": [
    "### Define class method\n",
    "####  a class method is shared by all instances of the class.\n",
    "class Person:\n",
    "    counter = 0\n",
    "\n",
    "    def __init__(self, name, age):\n",
    "        self.name = name\n",
    "        self.age = age\n",
    "        Person.counter += 1\n",
    "\n",
    "    def greet(self):\n",
    "        return f\"Hi, it's {self.name}.\"\n",
    "\n",
    "    @classmethod\n",
    "    def create_anonymous(cls):\n",
    "        return Person('Anonymous', 22)"
   ]
  },
  {
   "cell_type": "code",
   "execution_count": 29,
   "id": "b51b4fb3",
   "metadata": {},
   "outputs": [
    {
     "name": "stdout",
     "output_type": "stream",
     "text": [
      "Anonymous\n"
     ]
    }
   ],
   "source": [
    "anonymous = Person.create_anonymous()\n",
    "print(anonymous.name)  # Anonymous"
   ]
  },
  {
   "cell_type": "markdown",
   "id": "9d62db0b",
   "metadata": {},
   "source": [
    "### Single Inheritance"
   ]
  },
  {
   "cell_type": "markdown",
   "id": "242208c9",
   "metadata": {},
   "source": [
    "Inside the __init__ methods of the employee class calls __init__ methods of the\n",
    "Person class to initialize the name and age attributes."
   ]
  },
  {
   "cell_type": "markdown",
   "id": "c4266dff",
   "metadata": {},
   "source": [
    "super() allows child to access a method of the parent class.\n",
    "\n",
    "The employee class extends parent class the adding one more variable/attribute call job_title"
   ]
  },
  {
   "cell_type": "code",
   "execution_count": null,
   "id": "a56a4a87",
   "metadata": {},
   "outputs": [],
   "source": [
    "class Employee(Person):\n",
    "    def __init__(self, name, age, job_title):\n",
    "        super().__init__(name, age)\n",
    "        self.job_title = job_title"
   ]
  },
  {
   "cell_type": "markdown",
   "id": "7d366d84",
   "metadata": {},
   "source": [
    "to override the greet() method in the person class, you can define the greet()\n",
    "method in the Employee clas"
   ]
  },
  {
   "cell_type": "code",
   "execution_count": 31,
   "id": "846721c3",
   "metadata": {},
   "outputs": [],
   "source": [
    "class Employee(Person):\n",
    "    def __init__(self, name, age, job_title):\n",
    "        super().__init__(name, age)\n",
    "        self.job_title = job_title\n",
    "        \n",
    "    def greet(self):\n",
    "        return super().greet() + f\"I am a {self.job_title}.\""
   ]
  },
  {
   "cell_type": "code",
   "execution_count": 32,
   "id": "228fa5c5",
   "metadata": {},
   "outputs": [],
   "source": [
    "employee = Employee(\"Rhaju\", 27, \"Python learner\")"
   ]
  },
  {
   "cell_type": "code",
   "execution_count": 33,
   "id": "9c8c4eeb",
   "metadata": {},
   "outputs": [
    {
     "name": "stdout",
     "output_type": "stream",
     "text": [
      "Hi, it's Rhaju.I am a Python learner.\n"
     ]
    }
   ],
   "source": [
    "print(employee.greet())"
   ]
  },
  {
   "cell_type": "code",
   "execution_count": null,
   "id": "12043951",
   "metadata": {},
   "outputs": [],
   "source": []
  }
 ],
 "metadata": {
  "kernelspec": {
   "display_name": "Python 3 (ipykernel)",
   "language": "python",
   "name": "python3"
  },
  "language_info": {
   "codemirror_mode": {
    "name": "ipython",
    "version": 3
   },
   "file_extension": ".py",
   "mimetype": "text/x-python",
   "name": "python",
   "nbconvert_exporter": "python",
   "pygments_lexer": "ipython3",
   "version": "3.9.12"
  }
 },
 "nbformat": 4,
 "nbformat_minor": 5
}
