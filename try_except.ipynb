{
  "nbformat": 4,
  "nbformat_minor": 0,
  "metadata": {
    "colab": {
      "provenance": [],
      "authorship_tag": "ABX9TyNrumEFhO+ijfzZ7IZx0Jb7",
      "include_colab_link": true
    },
    "kernelspec": {
      "name": "python3",
      "display_name": "Python 3"
    },
    "language_info": {
      "name": "python"
    }
  },
  "cells": [
    {
      "cell_type": "markdown",
      "metadata": {
        "id": "view-in-github",
        "colab_type": "text"
      },
      "source": [
        "<a href=\"https://colab.research.google.com/github/mdsahabuddin01/Python_Explorations/blob/main/try_except.ipynb\" target=\"_parent\"><img src=\"https://colab.research.google.com/assets/colab-badge.svg\" alt=\"Open In Colab\"/></a>"
      ]
    },
    {
      "cell_type": "code",
      "execution_count": 1,
      "metadata": {
        "colab": {
          "base_uri": "https://localhost:8080/",
          "height": 162
        },
        "id": "muX9i2o5g1wW",
        "outputId": "be4254aa-5975-4fe3-9604-361cad0c3848"
      },
      "outputs": [
        {
          "output_type": "error",
          "ename": "NameError",
          "evalue": "name 'b' is not defined",
          "traceback": [
            "\u001b[0;31m---------------------------------------------------------------------------\u001b[0m",
            "\u001b[0;31mNameError\u001b[0m                                 Traceback (most recent call last)",
            "\u001b[0;32m<ipython-input-1-545e5effd9a2>\u001b[0m in \u001b[0;36m<cell line: 2>\u001b[0;34m()\u001b[0m\n\u001b[1;32m      1\u001b[0m \u001b[0ma\u001b[0m \u001b[0;34m=\u001b[0m\u001b[0;36m1\u001b[0m\u001b[0;34m\u001b[0m\u001b[0;34m\u001b[0m\u001b[0m\n\u001b[0;32m----> 2\u001b[0;31m \u001b[0ma\u001b[0m\u001b[0;34m+\u001b[0m\u001b[0mb\u001b[0m\u001b[0;34m\u001b[0m\u001b[0;34m\u001b[0m\u001b[0m\n\u001b[0m",
            "\u001b[0;31mNameError\u001b[0m: name 'b' is not defined"
          ]
        }
      ],
      "source": [
        "a =1\n",
        "a+b"
      ]
    },
    {
      "cell_type": "code",
      "source": [
        "try:\n",
        "  a+b\n",
        "except:\n",
        "  print(\"error\")"
      ],
      "metadata": {
        "colab": {
          "base_uri": "https://localhost:8080/"
        },
        "id": "RabruKMjg9Qh",
        "outputId": "917d9067-69e7-43a4-de8f-6347e1026781"
      },
      "execution_count": 4,
      "outputs": [
        {
          "output_type": "stream",
          "name": "stdout",
          "text": [
            "error\n"
          ]
        }
      ]
    },
    {
      "cell_type": "code",
      "source": [
        "a = 1\n",
        "try:\n",
        "  a+b\n",
        "except Exception as ex:\n",
        "  print(ex)\n",
        "\n"
      ],
      "metadata": {
        "colab": {
          "base_uri": "https://localhost:8080/"
        },
        "id": "hsK9YYQshAkW",
        "outputId": "c9dfb01d-a56d-4b60-b7c7-e0e6c93e464f"
      },
      "execution_count": 5,
      "outputs": [
        {
          "output_type": "stream",
          "name": "stdout",
          "text": [
            "name 'b' is not defined\n"
          ]
        }
      ]
    },
    {
      "cell_type": "code",
      "source": [
        "a = 1\n",
        "try:\n",
        "  a+b\n",
        "except Exception as ex:\n",
        "  print(type(ex))\n",
        "\n"
      ],
      "metadata": {
        "colab": {
          "base_uri": "https://localhost:8080/"
        },
        "id": "tPc9_87UhRMd",
        "outputId": "f84f5f83-12fe-4c90-b937-ccc2e64b0af3"
      },
      "execution_count": 6,
      "outputs": [
        {
          "output_type": "stream",
          "name": "stdout",
          "text": [
            "<class 'NameError'>\n"
          ]
        }
      ]
    },
    {
      "cell_type": "code",
      "source": [
        "a = 1\n",
        "try:\n",
        "  a+b\n",
        "except NameError as ne:\n",
        "  print(ne)\n",
        "except Exception as ex:\n",
        "  print(ex)\n",
        "\n"
      ],
      "metadata": {
        "colab": {
          "base_uri": "https://localhost:8080/"
        },
        "id": "0p68KYSLhWP1",
        "outputId": "5b69ed74-ea13-4a38-f53e-9574578609d7"
      },
      "execution_count": 7,
      "outputs": [
        {
          "output_type": "stream",
          "name": "stdout",
          "text": [
            "name 'b' is not defined\n"
          ]
        }
      ]
    },
    {
      "cell_type": "code",
      "source": [
        "a = 1\n",
        "b=\"cat\"\n",
        "try:\n",
        "  a+b\n",
        "except NameError as ne:\n",
        "  print(ne, type(ne))\n",
        "except TypeError as te:\n",
        "  print(te, type(te))\n",
        "except Exception as ex:\n",
        "  print(f\"From exception class {ex}\", type(ex))"
      ],
      "metadata": {
        "colab": {
          "base_uri": "https://localhost:8080/"
        },
        "id": "HznKW9XUhlpt",
        "outputId": "c7bfb83b-02a1-43cd-e98c-98aba331ac83"
      },
      "execution_count": 11,
      "outputs": [
        {
          "output_type": "stream",
          "name": "stdout",
          "text": [
            "unsupported operand type(s) for +: 'int' and 'str' <class 'TypeError'>\n"
          ]
        }
      ]
    },
    {
      "cell_type": "code",
      "source": [
        "a = 1\n",
        "b=\"cat\"\n",
        "try:\n",
        "  a/0\n",
        "except NameError as ne:\n",
        "  print(ne, type(ne))\n",
        "except TypeError as te:\n",
        "  print(te, type(te))\n",
        "except Exception as ex:\n",
        "  print(f\"From exception class {ex}\", type(ex))"
      ],
      "metadata": {
        "colab": {
          "base_uri": "https://localhost:8080/"
        },
        "id": "_B9bke69iJk7",
        "outputId": "27deb325-c71d-41bc-8629-40cc7002ec2d"
      },
      "execution_count": 13,
      "outputs": [
        {
          "output_type": "stream",
          "name": "stdout",
          "text": [
            "From exception class division by zero <class 'ZeroDivisionError'>\n"
          ]
        }
      ]
    },
    {
      "cell_type": "code",
      "source": [],
      "metadata": {
        "id": "RVZt1GVQirYj"
      },
      "execution_count": null,
      "outputs": []
    }
  ]
}