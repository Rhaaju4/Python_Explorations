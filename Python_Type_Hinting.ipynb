{
  "nbformat": 4,
  "nbformat_minor": 0,
  "metadata": {
    "colab": {
      "provenance": [],
      "authorship_tag": "ABX9TyNV4JU43F8Wq89b96aaTWyD",
      "include_colab_link": true
    },
    "kernelspec": {
      "name": "python3",
      "display_name": "Python 3"
    },
    "language_info": {
      "name": "python"
    }
  },
  "cells": [
    {
      "cell_type": "markdown",
      "metadata": {
        "id": "view-in-github",
        "colab_type": "text"
      },
      "source": [
        "<a href=\"https://colab.research.google.com/github/mdsahabuddin01/Python_Explorations/blob/main/Python_Type_Hinting.ipynb\" target=\"_parent\"><img src=\"https://colab.research.google.com/assets/colab-badge.svg\" alt=\"Open In Colab\"/></a>"
      ]
    },
    {
      "cell_type": "markdown",
      "source": [
        "**Python is a dynamically-typed language.**"
      ],
      "metadata": {
        "id": "zX0R_fC9EVJZ"
      }
    },
    {
      "cell_type": "code",
      "source": [
        "age: int = 20\n",
        "name: str = \"Alice\"\n",
        "is_active: bool = True"
      ],
      "metadata": {
        "id": "5TGx_iP-EtFe"
      },
      "execution_count": 21,
      "outputs": []
    },
    {
      "cell_type": "markdown",
      "source": [
        "**Atomic vs. composite types**"
      ],
      "metadata": {
        "id": "zLhSzufvFCjt"
      }
    },
    {
      "cell_type": "code",
      "source": [
        "def my_function(my_string: str) -> int:\n",
        "    return len(my_string)"
      ],
      "metadata": {
        "id": "DTRZpnsdFETR"
      },
      "execution_count": 22,
      "outputs": []
    },
    {
      "cell_type": "code",
      "source": [
        "from typing import List\n",
        "\n",
        "def my_function(numbers: List[int]) -> int:\n",
        "    return sum(numbers)"
      ],
      "metadata": {
        "id": "06ShDkXtFHm1"
      },
      "execution_count": 23,
      "outputs": []
    },
    {
      "cell_type": "code",
      "execution_count": 20,
      "metadata": {
        "id": "0xTQaRhn_hhd"
      },
      "outputs": [],
      "source": [
        "def greet(name: str) -> str:\n",
        "  return f\"hello {name}!\""
      ]
    },
    {
      "cell_type": "code",
      "source": [
        "def area_rectangle(length: float, breadth: float) -> float:\n",
        "    return length * breadth"
      ],
      "metadata": {
        "id": "pOFoM380FdHv"
      },
      "execution_count": 24,
      "outputs": []
    },
    {
      "cell_type": "markdown",
      "source": [
        "**Complex types**"
      ],
      "metadata": {
        "id": "DU-b1ZIFFppN"
      }
    },
    {
      "cell_type": "code",
      "source": [
        "# A list of integers\n",
        "numbers: list[int] = [1, 2, 3]\n",
        "\n",
        "# A dictionary with string keys and float values\n",
        "weights: dict[str, float] = {\"apple\": 0.182, \"banana\": 0.120}\n",
        "\n",
        "# A tuple with an integer and a string\n",
        "student: tuple[int, str] = (1, \"John\")\n",
        "\n",
        "# A set of strings\n",
        "flags: set[str] = {\"apple\", \"banana\", \"cherry\"}"
      ],
      "metadata": {
        "id": "qp9vQhbDFtie"
      },
      "execution_count": 25,
      "outputs": []
    },
    {
      "cell_type": "code",
      "source": [
        "Uname = greet(\"Anjana\")\n",
        "print(Uname)"
      ],
      "metadata": {
        "colab": {
          "base_uri": "https://localhost:8080/"
        },
        "id": "6IK2v_aA_7UB",
        "outputId": "840e993a-8de6-4f09-c6f8-3437ec14c36e"
      },
      "execution_count": 7,
      "outputs": [
        {
          "output_type": "stream",
          "name": "stdout",
          "text": [
            "hello Anjana!\n"
          ]
        }
      ]
    },
    {
      "cell_type": "markdown",
      "source": [
        "The following example function turns a text string into a headline by adding proper capitalization and a decorative line:"
      ],
      "metadata": {
        "id": "o3AeqEebAicl"
      }
    },
    {
      "cell_type": "code",
      "source": [
        "def headline(text, align=True):\n",
        "  if align:\n",
        "    return f\"{text.title()} \\n {'-' * len(text)}\"\n",
        "  else:\n",
        "    return f\"{text.title()}\".center(50, \"o\")\n",
        "\n",
        "\n",
        "print(headline(\" python type checking \"))"
      ],
      "metadata": {
        "colab": {
          "base_uri": "https://localhost:8080/"
        },
        "id": "COHggN-vAjXf",
        "outputId": "fa4e88e8-64c8-4faf-8d7d-7bf6fddb6ccd"
      },
      "execution_count": 12,
      "outputs": [
        {
          "output_type": "stream",
          "name": "stdout",
          "text": [
            " Python Type Checking  \n",
            " ----------------------\n"
          ]
        }
      ]
    },
    {
      "cell_type": "code",
      "source": [
        "print(headline(\" python type checking \", align=False))"
      ],
      "metadata": {
        "colab": {
          "base_uri": "https://localhost:8080/"
        },
        "id": "e6qjOVybDMlf",
        "outputId": "2b7add99-7d23-4f1a-a8d5-85a4747aa2ad"
      },
      "execution_count": 13,
      "outputs": [
        {
          "output_type": "stream",
          "name": "stdout",
          "text": [
            "oooooooooooooo Python Type Checking oooooooooooooo\n"
          ]
        }
      ]
    },
    {
      "cell_type": "markdown",
      "source": [
        "Now add type hints by annotating the arguments and the return value as follows:"
      ],
      "metadata": {
        "id": "0MAw4uSCDjKt"
      }
    },
    {
      "cell_type": "code",
      "source": [
        "headline"
      ],
      "metadata": {
        "colab": {
          "base_uri": "https://localhost:8080/",
          "height": 104
        },
        "id": "bdYK4_eMDQe9",
        "outputId": "e203dc4d-6138-4069-b569-837c8c827ad9"
      },
      "execution_count": 14,
      "outputs": [
        {
          "output_type": "execute_result",
          "data": {
            "text/plain": [
              "<function __main__.headline(text: str, align=True) -> str>"
            ],
            "text/html": [
              "<div style=\"max-width:800px; border: 1px solid var(--colab-border-color);\"><style>\n",
              "      pre.function-repr-contents {\n",
              "        overflow-x: auto;\n",
              "        padding: 8px 12px;\n",
              "        max-height: 500px;\n",
              "      }\n",
              "\n",
              "      pre.function-repr-contents.function-repr-contents-collapsed {\n",
              "        cursor: pointer;\n",
              "        max-height: 100px;\n",
              "      }\n",
              "    </style>\n",
              "    <pre style=\"white-space: initial; background:\n",
              "         var(--colab-secondary-surface-color); padding: 8px 12px;\n",
              "         border-bottom: 1px solid var(--colab-border-color);\"><b>headline</b><br/>def headline(text: str, align=True) -&gt; str</pre><pre class=\"function-repr-contents function-repr-contents-collapsed\" style=\"\"><a class=\"filepath\" style=\"display:none\" href=\"#\">/content/&lt;ipython-input-12-7cc2171221f9&gt;</a>&lt;no docstring&gt;</pre></div>"
            ]
          },
          "metadata": {},
          "execution_count": 14
        }
      ]
    },
    {
      "cell_type": "code",
      "source": [
        "def headline(text: str, align: bool=True) -> str:\n",
        "  if align:\n",
        "    return f\"{text.title()} \\n {'-' * len(text)}\"\n",
        "  else:\n",
        "    return f\"{text.title()}\".center(50, \"o\")"
      ],
      "metadata": {
        "id": "45TLKuqdDkmO"
      },
      "execution_count": 17,
      "outputs": []
    },
    {
      "cell_type": "code",
      "source": [
        "print(headline(\"python type checking\", align=\"center\"))"
      ],
      "metadata": {
        "colab": {
          "base_uri": "https://localhost:8080/"
        },
        "id": "ZKzQrqJGD5LD",
        "outputId": "8e41c889-c316-4634-f0e2-28b165e03a8d"
      },
      "execution_count": 18,
      "outputs": [
        {
          "output_type": "stream",
          "name": "stdout",
          "text": [
            "Python Type Checking \n",
            " --------------------\n"
          ]
        }
      ]
    },
    {
      "cell_type": "code",
      "source": [
        "print(headline(\"python type checking\", align=\"left\"))"
      ],
      "metadata": {
        "colab": {
          "base_uri": "https://localhost:8080/"
        },
        "id": "SPEaqXVpEDLJ",
        "outputId": "3d272f0a-61ca-40fd-fd23-55e738a196c0"
      },
      "execution_count": 19,
      "outputs": [
        {
          "output_type": "stream",
          "name": "stdout",
          "text": [
            "Python Type Checking \n",
            " --------------------\n"
          ]
        }
      ]
    },
    {
      "cell_type": "code",
      "source": [
        "#your own types using classes\n",
        "#You can create a class and use it as a type hint. Here's an example:\n",
        "\n",
        "class Student:\n",
        "    def __init__(self, name: str, age: int):\n",
        "        self.name = name\n",
        "        self.age = age\n",
        "\n",
        "def print_student_details(student: Student) -> None:\n",
        "    print(student.name, student.age)"
      ],
      "metadata": {
        "id": "8MPyckPrF3ds"
      },
      "execution_count": null,
      "outputs": []
    }
  ]
}